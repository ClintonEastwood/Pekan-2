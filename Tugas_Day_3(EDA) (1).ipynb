{
  "nbformat": 4,
  "nbformat_minor": 0,
  "metadata": {
    "colab": {
      "provenance": []
    },
    "kernelspec": {
      "name": "python3",
      "display_name": "Python 3"
    },
    "language_info": {
      "name": "python"
    }
  },
  "cells": [
    {
      "cell_type": "markdown",
      "metadata": {
        "id": "EqmubOp2whk3"
      },
      "source": [
        "# Soal 1. Pemahaman k-means clustering\n",
        "\n",
        "Jelaskan bagaimana cara kerja k-means clustering!"
      ]
    },
    {
      "cell_type": "markdown",
      "metadata": {
        "id": "gf8y3llqw369"
      },
      "source": [
        "Jawab disini:\n",
        "\n"
      ]
    },
    {
      "cell_type": "markdown",
      "metadata": {
        "id": "oXGsjqHCk7DW"
      },
      "source": [
        "\n",
        "mengelompokan data ke dalam grup yang berbeda berdasarkan variable tertentu. dimana setiap cluster akan diasosiasikan dengan centruid"
      ]
    },
    {
      "cell_type": "markdown",
      "metadata": {
        "id": "NoX-A3wElHoq"
      },
      "source": [
        "Download disini [pelanggan.csv](https://drive.google.com/uc?export=download&id=1jX_rLPfcCfzEEgy9xaoALmpqfU2s5TTB)"
      ]
    },
    {
      "cell_type": "code",
      "metadata": {
        "colab": {
          "base_uri": "https://localhost:8080/",
          "height": 206
        },
        "id": "rqRBoUBsw7S0",
        "outputId": "f78734b3-866c-4802-fea4-c6cfeaba83fb"
      },
      "source": [
        "import pandas as pd\n",
        "df = pd.read_csv('pelanggan_supermarket.csv')\n",
        "df.head()"
      ],
      "execution_count": 2,
      "outputs": [
        {
          "output_type": "execute_result",
          "data": {
            "text/plain": [
              "   ID_pelanggan Jenis Kelamin  Umur  Pendapatan pertahun (juta)  \\\n",
              "0             1     Laki-laki  19.0                          15   \n",
              "1             2     Laki-laki  21.0                          15   \n",
              "2             3     Perempuan  20.0                          16   \n",
              "3             4     Perempuan  23.0                          16   \n",
              "4             5     Perempuan  31.0                          17   \n",
              "\n",
              "   Skor Belanja (1-100)  \n",
              "0                  39.0  \n",
              "1                  81.0  \n",
              "2                   6.0  \n",
              "3                  77.0  \n",
              "4                  40.0  "
            ],
            "text/html": [
              "\n",
              "  <div id=\"df-29526df4-3b5a-40cf-b125-ebdb7abb1c35\">\n",
              "    <div class=\"colab-df-container\">\n",
              "      <div>\n",
              "<style scoped>\n",
              "    .dataframe tbody tr th:only-of-type {\n",
              "        vertical-align: middle;\n",
              "    }\n",
              "\n",
              "    .dataframe tbody tr th {\n",
              "        vertical-align: top;\n",
              "    }\n",
              "\n",
              "    .dataframe thead th {\n",
              "        text-align: right;\n",
              "    }\n",
              "</style>\n",
              "<table border=\"1\" class=\"dataframe\">\n",
              "  <thead>\n",
              "    <tr style=\"text-align: right;\">\n",
              "      <th></th>\n",
              "      <th>ID_pelanggan</th>\n",
              "      <th>Jenis Kelamin</th>\n",
              "      <th>Umur</th>\n",
              "      <th>Pendapatan pertahun (juta)</th>\n",
              "      <th>Skor Belanja (1-100)</th>\n",
              "    </tr>\n",
              "  </thead>\n",
              "  <tbody>\n",
              "    <tr>\n",
              "      <th>0</th>\n",
              "      <td>1</td>\n",
              "      <td>Laki-laki</td>\n",
              "      <td>19.0</td>\n",
              "      <td>15</td>\n",
              "      <td>39.0</td>\n",
              "    </tr>\n",
              "    <tr>\n",
              "      <th>1</th>\n",
              "      <td>2</td>\n",
              "      <td>Laki-laki</td>\n",
              "      <td>21.0</td>\n",
              "      <td>15</td>\n",
              "      <td>81.0</td>\n",
              "    </tr>\n",
              "    <tr>\n",
              "      <th>2</th>\n",
              "      <td>3</td>\n",
              "      <td>Perempuan</td>\n",
              "      <td>20.0</td>\n",
              "      <td>16</td>\n",
              "      <td>6.0</td>\n",
              "    </tr>\n",
              "    <tr>\n",
              "      <th>3</th>\n",
              "      <td>4</td>\n",
              "      <td>Perempuan</td>\n",
              "      <td>23.0</td>\n",
              "      <td>16</td>\n",
              "      <td>77.0</td>\n",
              "    </tr>\n",
              "    <tr>\n",
              "      <th>4</th>\n",
              "      <td>5</td>\n",
              "      <td>Perempuan</td>\n",
              "      <td>31.0</td>\n",
              "      <td>17</td>\n",
              "      <td>40.0</td>\n",
              "    </tr>\n",
              "  </tbody>\n",
              "</table>\n",
              "</div>\n",
              "      <button class=\"colab-df-convert\" onclick=\"convertToInteractive('df-29526df4-3b5a-40cf-b125-ebdb7abb1c35')\"\n",
              "              title=\"Convert this dataframe to an interactive table.\"\n",
              "              style=\"display:none;\">\n",
              "        \n",
              "  <svg xmlns=\"http://www.w3.org/2000/svg\" height=\"24px\"viewBox=\"0 0 24 24\"\n",
              "       width=\"24px\">\n",
              "    <path d=\"M0 0h24v24H0V0z\" fill=\"none\"/>\n",
              "    <path d=\"M18.56 5.44l.94 2.06.94-2.06 2.06-.94-2.06-.94-.94-2.06-.94 2.06-2.06.94zm-11 1L8.5 8.5l.94-2.06 2.06-.94-2.06-.94L8.5 2.5l-.94 2.06-2.06.94zm10 10l.94 2.06.94-2.06 2.06-.94-2.06-.94-.94-2.06-.94 2.06-2.06.94z\"/><path d=\"M17.41 7.96l-1.37-1.37c-.4-.4-.92-.59-1.43-.59-.52 0-1.04.2-1.43.59L10.3 9.45l-7.72 7.72c-.78.78-.78 2.05 0 2.83L4 21.41c.39.39.9.59 1.41.59.51 0 1.02-.2 1.41-.59l7.78-7.78 2.81-2.81c.8-.78.8-2.07 0-2.86zM5.41 20L4 18.59l7.72-7.72 1.47 1.35L5.41 20z\"/>\n",
              "  </svg>\n",
              "      </button>\n",
              "      \n",
              "  <style>\n",
              "    .colab-df-container {\n",
              "      display:flex;\n",
              "      flex-wrap:wrap;\n",
              "      gap: 12px;\n",
              "    }\n",
              "\n",
              "    .colab-df-convert {\n",
              "      background-color: #E8F0FE;\n",
              "      border: none;\n",
              "      border-radius: 50%;\n",
              "      cursor: pointer;\n",
              "      display: none;\n",
              "      fill: #1967D2;\n",
              "      height: 32px;\n",
              "      padding: 0 0 0 0;\n",
              "      width: 32px;\n",
              "    }\n",
              "\n",
              "    .colab-df-convert:hover {\n",
              "      background-color: #E2EBFA;\n",
              "      box-shadow: 0px 1px 2px rgba(60, 64, 67, 0.3), 0px 1px 3px 1px rgba(60, 64, 67, 0.15);\n",
              "      fill: #174EA6;\n",
              "    }\n",
              "\n",
              "    [theme=dark] .colab-df-convert {\n",
              "      background-color: #3B4455;\n",
              "      fill: #D2E3FC;\n",
              "    }\n",
              "\n",
              "    [theme=dark] .colab-df-convert:hover {\n",
              "      background-color: #434B5C;\n",
              "      box-shadow: 0px 1px 3px 1px rgba(0, 0, 0, 0.15);\n",
              "      filter: drop-shadow(0px 1px 2px rgba(0, 0, 0, 0.3));\n",
              "      fill: #FFFFFF;\n",
              "    }\n",
              "  </style>\n",
              "\n",
              "      <script>\n",
              "        const buttonEl =\n",
              "          document.querySelector('#df-29526df4-3b5a-40cf-b125-ebdb7abb1c35 button.colab-df-convert');\n",
              "        buttonEl.style.display =\n",
              "          google.colab.kernel.accessAllowed ? 'block' : 'none';\n",
              "\n",
              "        async function convertToInteractive(key) {\n",
              "          const element = document.querySelector('#df-29526df4-3b5a-40cf-b125-ebdb7abb1c35');\n",
              "          const dataTable =\n",
              "            await google.colab.kernel.invokeFunction('convertToInteractive',\n",
              "                                                     [key], {});\n",
              "          if (!dataTable) return;\n",
              "\n",
              "          const docLinkHtml = 'Like what you see? Visit the ' +\n",
              "            '<a target=\"_blank\" href=https://colab.research.google.com/notebooks/data_table.ipynb>data table notebook</a>'\n",
              "            + ' to learn more about interactive tables.';\n",
              "          element.innerHTML = '';\n",
              "          dataTable['output_type'] = 'display_data';\n",
              "          await google.colab.output.renderOutput(dataTable, element);\n",
              "          const docLink = document.createElement('div');\n",
              "          docLink.innerHTML = docLinkHtml;\n",
              "          element.appendChild(docLink);\n",
              "        }\n",
              "      </script>\n",
              "    </div>\n",
              "  </div>\n",
              "  "
            ]
          },
          "metadata": {},
          "execution_count": 2
        }
      ]
    },
    {
      "cell_type": "markdown",
      "metadata": {
        "id": "AByM6XoYMkTy"
      },
      "source": [
        "# Soal 2. Clustering data menggunakan k-means clustering\n",
        "\n",
        "Dalam soal ini, kalian diminta untuk melakukan clustering antara data Umur dan Skor Belanja(1-100). Namun, clustering tidak bisa dilakukan karena data memiliki outlier dan missing value. Maka, lakukanlah tahapan-tahapan berikut:\n",
        "\n",
        "*   Handling missing value dengan menggunakan method ='ffill'\n",
        "*   Handling outlier menggunakan metode Interquartile range\n",
        "*   Lakukan rescaling data menggunakan StandardScaler\n",
        "*   Lakukan clustering menggunakan kmeans clustering dengan k =2, dan visualisasikan.. \n",
        "*   Gunakan Elbow method untuk menemukan jumlah k kluster yang tepat\n",
        "*   Gunakan k=3 (rekomendasi methode Elbow) lalu visualisasikan\n",
        "*   Hitung silhoutte Coefficient dari ke dua hasil prediksi klustering tersebut\n",
        "\n",
        "\n",
        "\n",
        "\n",
        "\n",
        "\n",
        "\n",
        "\n"
      ]
    },
    {
      "cell_type": "code",
      "source": [
        "df.fillna(method = 'ffill', inplace = True)"
      ],
      "metadata": {
        "id": "DDABGjXddqfA"
      },
      "execution_count": 4,
      "outputs": []
    },
    {
      "cell_type": "code",
      "source": [
        "with sns.axes_style(style='ticks'):\n",
        "  g = sns.catplot()"
      ],
      "metadata": {
        "id": "nh9lGirsealE"
      },
      "execution_count": null,
      "outputs": []
    },
    {
      "cell_type": "code",
      "source": [
        "import seaborn as sns\n",
        "import numpy as np"
      ],
      "metadata": {
        "id": "RzryuQlRfUEB"
      },
      "execution_count": 14,
      "outputs": []
    },
    {
      "cell_type": "code",
      "source": [
        "sns.boxplot(x='Umur', data=df)"
      ],
      "metadata": {
        "colab": {
          "base_uri": "https://localhost:8080/",
          "height": 296
        },
        "id": "bFh3yC9ZfIhK",
        "outputId": "d6ab5c42-35de-4edc-e3b9-170bdabb8eae"
      },
      "execution_count": 10,
      "outputs": [
        {
          "output_type": "execute_result",
          "data": {
            "text/plain": [
              "<matplotlib.axes._subplots.AxesSubplot at 0x7f383abef790>"
            ]
          },
          "metadata": {},
          "execution_count": 10
        },
        {
          "output_type": "display_data",
          "data": {
            "text/plain": [
              "<Figure size 432x288 with 1 Axes>"
            ],
            "image/png": "[encoded data removed]"
          },
          "metadata": {
            "needs_background": "light"
          }
        }
      ]
    },
    {
      "cell_type": "code",
      "source": [
        "sns.boxplot(x='Skor Belanja (1-100)', data=df)"
      ],
      "metadata": {
        "colab": {
          "base_uri": "https://localhost:8080/",
          "height": 296
        },
        "id": "sGtpvxc5fch0",
        "outputId": "d6ce13d1-c99c-43fa-8a4f-f9c62c481b37"
      },
      "execution_count": 11,
      "outputs": [
        {
          "output_type": "execute_result",
          "data": {
            "text/plain": [
              "<matplotlib.axes._subplots.AxesSubplot at 0x7f383a6460d0>"
            ]
          },
          "metadata": {},
          "execution_count": 11
        },
        {
          "output_type": "display_data",
          "data": {
            "text/plain": [
              "<Figure size 432x288 with 1 Axes>"
            ],
            "image/png": "[encoded data removed]"
          },
          "metadata": {
            "needs_background": "light"
          }
        }
      ]
    },
    {
      "cell_type": "code",
      "source": [
        "def iqr_outlier(data,alpha):\n",
        "  q75, q25 = np.percentile(data, [75 ,25])\n",
        "  iqr = q75 - q25\n",
        "  upperbound=q75+(iqr*alpha)\n",
        "  lowerbound=q25-(iqr*alpha)\n",
        "  return upperbound,lowerbound"
      ],
      "metadata": {
        "id": "vfxOYnpwd0Px"
      },
      "execution_count": 15,
      "outputs": []
    },
    {
      "cell_type": "code",
      "source": [
        "upperu, loweru = iqr_outlier(df['Umur'], alpha = 1.5)\n",
        "print(upperu, loweru)"
      ],
      "metadata": {
        "colab": {
          "base_uri": "https://localhost:8080/"
        },
        "id": "dUzinp-weDgK",
        "outputId": "3e7719be-fca3-4295-b826-0a87fbdb9d24"
      },
      "execution_count": 16,
      "outputs": [
        {
          "output_type": "stream",
          "name": "stdout",
          "text": [
            "76.5 0.5\n"
          ]
        }
      ]
    },
    {
      "cell_type": "code",
      "source": [
        "uppers, lowers = iqr_outlier(df['Skor Belanja (1-100)'], alpha = 1.5)\n",
        "print(uppers, lowers)"
      ],
      "metadata": {
        "colab": {
          "base_uri": "https://localhost:8080/"
        },
        "id": "rqZDxwqCf5Vi",
        "outputId": "911a1beb-88ea-4e89-8805-333b743a7951"
      },
      "execution_count": 17,
      "outputs": [
        {
          "output_type": "stream",
          "name": "stdout",
          "text": [
            "144.5 -43.5\n"
          ]
        }
      ]
    },
    {
      "cell_type": "code",
      "source": [
        "df_u = df[(df['Umur']<upperu) & (df['Umur']>loweru)]\n",
        "sns.boxplot(x='Umur', data=df_u)"
      ],
      "metadata": {
        "colab": {
          "base_uri": "https://localhost:8080/",
          "height": 296
        },
        "id": "AKDUXZh3gKDf",
        "outputId": "e77f2164-c61c-44eb-c437-55c81bb2c8cd"
      },
      "execution_count": 20,
      "outputs": [
        {
          "output_type": "execute_result",
          "data": {
            "text/plain": [
              "<matplotlib.axes._subplots.AxesSubplot at 0x7f383896a730>"
            ]
          },
          "metadata": {},
          "execution_count": 20
        },
        {
          "output_type": "display_data",
          "data": {
            "text/plain": [
              "<Figure size 432x288 with 1 Axes>"
            ],
            "image/png": "[encoded data removed]"
          },
          "metadata": {
            "needs_background": "light"
          }
        }
      ]
    },
    {
      "cell_type": "code",
      "source": [
        "df_s = df[(df['Skor Belanja (1-100)']<uppers) & (df['Skor Belanja (1-100)']>lowers)]\n",
        "sns.boxplot(x='Skor Belanja (1-100)', data=df_s)"
      ],
      "metadata": {
        "colab": {
          "base_uri": "https://localhost:8080/",
          "height": 296
        },
        "id": "M6Ekb_XTg3OP",
        "outputId": "1f8ded37-7dec-46d7-e73b-c745a3b5341d"
      },
      "execution_count": 29,
      "outputs": [
        {
          "output_type": "execute_result",
          "data": {
            "text/plain": [
              "<matplotlib.axes._subplots.AxesSubplot at 0x7f3836f45520>"
            ]
          },
          "metadata": {},
          "execution_count": 29
        },
        {
          "output_type": "display_data",
          "data": {
            "text/plain": [
              "<Figure size 432x288 with 1 Axes>"
            ],
            "image/png": "[encoded data removed]"
          },
          "metadata": {
            "needs_background": "light"
          }
        }
      ]
    },
    {
      "cell_type": "code",
      "source": [
        "from sklearn.preprocessing import StandardScaler\n",
        "from sklearn.cluster import KMeans"
      ],
      "metadata": {
        "id": "mNCAd-Nth0wS"
      },
      "execution_count": 24,
      "outputs": []
    },
    {
      "cell_type": "code",
      "source": [
        "def remove_out_iqr (df):\n",
        "  q1 = df.quantile(0.25)\n",
        "  q3 = df.quantile(0.75)\n",
        "  iqr = q3-q1\n",
        "  df_final = df[~((df<(q1-1.5*iqr)) | (df>(q3+1.5*iqr)))]\n",
        "  return df_final"
      ],
      "metadata": {
        "id": "h0QSiijWjThq"
      },
      "execution_count": 30,
      "outputs": []
    },
    {
      "cell_type": "code",
      "source": [
        "df_out_remove = remove_out_iqr(df[['Umur', 'Skor Belanja (1-100)']])\n",
        "\n",
        "df_out_remove.dropna(axis = 0, inplace = True)"
      ],
      "metadata": {
        "id": "xH4-eZwRkfEZ"
      },
      "execution_count": 32,
      "outputs": []
    },
    {
      "cell_type": "code",
      "source": [
        "sc = StandardScaler()\n",
        "df_out_std = sc.fit_transform(df_out_remove.astype(float))\n",
        "\n",
        "kmeans1 = KMeans(n_clusters=2).fit(df_out_std)\n",
        "labels1 = kmeans1.labels_\n",
        "\n",
        "new_dfout_std = pd.DataFrame(data = df_out_std, columns = ['Umur','Skor Belanja (1-100'])\n",
        "new_dfout_std['label_kmeans1'] = labels1 "
      ],
      "metadata": {
        "id": "pxaUq4iliI4N"
      },
      "execution_count": null,
      "outputs": []
    },
    {
      "cell_type": "markdown",
      "metadata": {
        "id": "Fo1GIiVdFP4j"
      },
      "source": [
        "Expected output:\n",
        "\n",
        "n_cluster =2\n",
        "\n",
        "![](https://drive.google.com/uc?id=1RHedPeGR48w-cWl7WWkIsHTSB2DRgynO)\n",
        "\n",
        "\n",
        "Elbow graph\n",
        "\n",
        "![](https://drive.google.com/uc?id=1S3_uvQWzJCi8YwSBbpu2imKbUBZ3JdmV)\n",
        "\n",
        "n_cluster =3\n",
        "\n",
        "![](https://drive.google.com/uc?id=1EVMDQgPpC8vYpfxilyiJMRDNIr-JXULd)"
      ]
    },
    {
      "cell_type": "markdown",
      "metadata": {
        "id": "5xpMIoEcm8MM"
      },
      "source": [
        "\n",
        "\n",
        "---\n",
        "\n",
        "\n",
        "\n",
        "---\n",
        "\n",
        "\n",
        "\n",
        "---\n",
        "\n"
      ]
    },
    {
      "cell_type": "markdown",
      "metadata": {
        "id": "pt-NFlqTm-Og"
      },
      "source": [
        "# Soal 3. Analisa Data Hasil Clustering\n",
        "\n",
        "Dari hasil klustering diatas, buatlah sebuah analisa segmentasi pelanggan untuk kemajuan supermarket. "
      ]
    },
    {
      "cell_type": "markdown",
      "metadata": {
        "id": "zNPDstJynpva"
      },
      "source": [
        "Jawab disini:"
      ]
    }
  ]
}