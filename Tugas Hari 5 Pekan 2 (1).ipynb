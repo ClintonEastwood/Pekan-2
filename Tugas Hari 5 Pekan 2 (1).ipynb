{
 "cells": [
  {
   "cell_type": "markdown",
   "metadata": {
    "id": "trzFIQkup13B"
   },
   "source": [
    "**Soal 1. Data Preparation**\n",
    "\n",
    "Bacalah Dataset dengan memberikan beberapa argumen sehingga bisa membaca datetime"
   ]
  },
  {
   "cell_type": "code",
   "execution_count": 6,
   "metadata": {},
   "outputs": [],
   "source": [
    "import pandas as pd\n",
    "import datetime"
   ]
  },
  {
   "cell_type": "code",
   "execution_count": 7,
   "metadata": {},
   "outputs": [
    {
     "data": {
      "text/html": [
       "<div>\n",
       "<style scoped>\n",
       "    .dataframe tbody tr th:only-of-type {\n",
       "        vertical-align: middle;\n",
       "    }\n",
       "\n",
       "    .dataframe tbody tr th {\n",
       "        vertical-align: top;\n",
       "    }\n",
       "\n",
       "    .dataframe thead th {\n",
       "        text-align: right;\n",
       "    }\n",
       "</style>\n",
       "<table border=\"1\" class=\"dataframe\">\n",
       "  <thead>\n",
       "    <tr style=\"text-align: right;\">\n",
       "      <th></th>\n",
       "      <th>meantemp</th>\n",
       "      <th>humidity</th>\n",
       "      <th>wind_speed</th>\n",
       "      <th>meanpressure</th>\n",
       "    </tr>\n",
       "    <tr>\n",
       "      <th>date</th>\n",
       "      <th></th>\n",
       "      <th></th>\n",
       "      <th></th>\n",
       "      <th></th>\n",
       "    </tr>\n",
       "  </thead>\n",
       "  <tbody>\n",
       "    <tr>\n",
       "      <th>2013-01-01</th>\n",
       "      <td>10.000000</td>\n",
       "      <td>84.500000</td>\n",
       "      <td>0.000000</td>\n",
       "      <td>1015.666667</td>\n",
       "    </tr>\n",
       "    <tr>\n",
       "      <th>2013-01-02</th>\n",
       "      <td>7.400000</td>\n",
       "      <td>92.000000</td>\n",
       "      <td>2.980000</td>\n",
       "      <td>1017.800000</td>\n",
       "    </tr>\n",
       "    <tr>\n",
       "      <th>2013-01-03</th>\n",
       "      <td>7.166667</td>\n",
       "      <td>87.000000</td>\n",
       "      <td>4.633333</td>\n",
       "      <td>1018.666667</td>\n",
       "    </tr>\n",
       "    <tr>\n",
       "      <th>2013-01-04</th>\n",
       "      <td>8.666667</td>\n",
       "      <td>71.333333</td>\n",
       "      <td>1.233333</td>\n",
       "      <td>1017.166667</td>\n",
       "    </tr>\n",
       "    <tr>\n",
       "      <th>2013-01-05</th>\n",
       "      <td>6.000000</td>\n",
       "      <td>86.833333</td>\n",
       "      <td>3.700000</td>\n",
       "      <td>1016.500000</td>\n",
       "    </tr>\n",
       "  </tbody>\n",
       "</table>\n",
       "</div>"
      ],
      "text/plain": [
       "             meantemp   humidity  wind_speed  meanpressure\n",
       "date                                                      \n",
       "2013-01-01  10.000000  84.500000    0.000000   1015.666667\n",
       "2013-01-02   7.400000  92.000000    2.980000   1017.800000\n",
       "2013-01-03   7.166667  87.000000    4.633333   1018.666667\n",
       "2013-01-04   8.666667  71.333333    1.233333   1017.166667\n",
       "2013-01-05   6.000000  86.833333    3.700000   1016.500000"
      ]
     },
     "execution_count": 7,
     "metadata": {},
     "output_type": "execute_result"
    }
   ],
   "source": [
    "df = pd.read_csv('climate_change.csv', index_col = 'date', parse_dates = True)\n",
    "df.head(5)"
   ]
  },
  {
   "cell_type": "markdown",
   "metadata": {
    "id": "Lyf-Gog3qMQ9"
   },
   "source": [
    "Expected output:\n",
    "\n",
    "(Gambar hanya sebagian)\n",
    "\n",
    "![alt text](https://drive.google.com/uc?id=1TqrXs9JStRXqiF0NIWiMdo5r8CQ-S74-)"
   ]
  },
  {
   "cell_type": "markdown",
   "metadata": {
    "id": "imR2TSA9s0PY"
   },
   "source": [
    "\n",
    "\n",
    "---\n",
    "\n",
    "\n",
    "\n",
    "---\n",
    "\n"
   ]
  },
  {
   "cell_type": "markdown",
   "metadata": {
    "id": "MuIKzSNFcMDb"
   },
   "source": [
    "Soal 2. Selection\n",
    "\n",
    "Tampilkan data keseluruhan untuk tahun 2015 di bulan November"
   ]
  },
  {
   "cell_type": "code",
   "execution_count": 10,
   "metadata": {
    "id": "EVupRJadtHMu"
   },
   "outputs": [
    {
     "name": "stderr",
     "output_type": "stream",
     "text": [
      "C:\\Users\\ian\\AppData\\Local\\Temp\\ipykernel_14564\\1121414022.py:2: FutureWarning: Indexing a DataFrame with a datetimelike index using a single string to slice the rows, like `frame[string]`, is deprecated and will be removed in a future version. Use `frame.loc[string]` instead.\n",
      "  df['2015-11'].head(7)\n"
     ]
    },
    {
     "data": {
      "text/html": [
       "<div>\n",
       "<style scoped>\n",
       "    .dataframe tbody tr th:only-of-type {\n",
       "        vertical-align: middle;\n",
       "    }\n",
       "\n",
       "    .dataframe tbody tr th {\n",
       "        vertical-align: top;\n",
       "    }\n",
       "\n",
       "    .dataframe thead th {\n",
       "        text-align: right;\n",
       "    }\n",
       "</style>\n",
       "<table border=\"1\" class=\"dataframe\">\n",
       "  <thead>\n",
       "    <tr style=\"text-align: right;\">\n",
       "      <th></th>\n",
       "      <th>meantemp</th>\n",
       "      <th>humidity</th>\n",
       "      <th>wind_speed</th>\n",
       "      <th>meanpressure</th>\n",
       "    </tr>\n",
       "    <tr>\n",
       "      <th>date</th>\n",
       "      <th></th>\n",
       "      <th></th>\n",
       "      <th></th>\n",
       "      <th></th>\n",
       "    </tr>\n",
       "  </thead>\n",
       "  <tbody>\n",
       "    <tr>\n",
       "      <th>2015-11-01</th>\n",
       "      <td>22.875</td>\n",
       "      <td>70.500</td>\n",
       "      <td>0.9250</td>\n",
       "      <td>1016.250</td>\n",
       "    </tr>\n",
       "    <tr>\n",
       "      <th>2015-11-02</th>\n",
       "      <td>23.375</td>\n",
       "      <td>71.375</td>\n",
       "      <td>0.4625</td>\n",
       "      <td>1015.875</td>\n",
       "    </tr>\n",
       "    <tr>\n",
       "      <th>2015-11-03</th>\n",
       "      <td>24.000</td>\n",
       "      <td>67.875</td>\n",
       "      <td>0.4750</td>\n",
       "      <td>1014.250</td>\n",
       "    </tr>\n",
       "    <tr>\n",
       "      <th>2015-11-04</th>\n",
       "      <td>23.750</td>\n",
       "      <td>69.000</td>\n",
       "      <td>0.9250</td>\n",
       "      <td>1012.250</td>\n",
       "    </tr>\n",
       "    <tr>\n",
       "      <th>2015-11-05</th>\n",
       "      <td>22.125</td>\n",
       "      <td>75.250</td>\n",
       "      <td>5.1000</td>\n",
       "      <td>1012.375</td>\n",
       "    </tr>\n",
       "    <tr>\n",
       "      <th>2015-11-06</th>\n",
       "      <td>22.875</td>\n",
       "      <td>74.375</td>\n",
       "      <td>2.3250</td>\n",
       "      <td>1012.750</td>\n",
       "    </tr>\n",
       "    <tr>\n",
       "      <th>2015-11-07</th>\n",
       "      <td>21.875</td>\n",
       "      <td>74.875</td>\n",
       "      <td>1.1625</td>\n",
       "      <td>1014.625</td>\n",
       "    </tr>\n",
       "  </tbody>\n",
       "</table>\n",
       "</div>"
      ],
      "text/plain": [
       "            meantemp  humidity  wind_speed  meanpressure\n",
       "date                                                    \n",
       "2015-11-01    22.875    70.500      0.9250      1016.250\n",
       "2015-11-02    23.375    71.375      0.4625      1015.875\n",
       "2015-11-03    24.000    67.875      0.4750      1014.250\n",
       "2015-11-04    23.750    69.000      0.9250      1012.250\n",
       "2015-11-05    22.125    75.250      5.1000      1012.375\n",
       "2015-11-06    22.875    74.375      2.3250      1012.750\n",
       "2015-11-07    21.875    74.875      1.1625      1014.625"
      ]
     },
     "execution_count": 10,
     "metadata": {},
     "output_type": "execute_result"
    }
   ],
   "source": [
    "#code here\n",
    "df['2015-11'].head(7)"
   ]
  },
  {
   "cell_type": "markdown",
   "metadata": {
    "id": "gIzlOCBStJnR"
   },
   "source": [
    "Expected output:\n",
    "\n",
    "(Gambar hanya sebagian)\n",
    "\n",
    "![alt text](https://drive.google.com/uc?id=1ABMLSmdQ817PIdxW1v7rUKelOj_W241g)"
   ]
  },
  {
   "cell_type": "markdown",
   "metadata": {
    "id": "M0rqGpB7tcr6"
   },
   "source": [
    "\n",
    "\n",
    "---\n",
    "\n",
    "\n",
    "\n",
    "---\n",
    "\n"
   ]
  },
  {
   "cell_type": "markdown",
   "metadata": {
    "id": "1lW3h2RikXHP"
   },
   "source": [
    "**Soal 3. Filtering**\n",
    "\n",
    "Tampilkan data perubahan iklim pada 1 bulan terakhir di tahun 2016 dan jawablah pertanyaan berikut:\n",
    "\n",
    "Berapakah rata-rata temperatur tertinggi?"
   ]
  },
  {
   "cell_type": "code",
   "execution_count": 13,
   "metadata": {
    "id": "dqvDT9XNt0kM"
   },
   "outputs": [
    {
     "name": "stderr",
     "output_type": "stream",
     "text": [
      "C:\\Users\\ian\\AppData\\Local\\Temp\\ipykernel_14564\\1080001424.py:2: FutureWarning: Indexing a DataFrame with a datetimelike index using a single string to slice the rows, like `frame[string]`, is deprecated and will be removed in a future version. Use `frame.loc[string]` instead.\n",
      "  df['2016'].last('1M').head(7)\n"
     ]
    },
    {
     "data": {
      "text/html": [
       "<div>\n",
       "<style scoped>\n",
       "    .dataframe tbody tr th:only-of-type {\n",
       "        vertical-align: middle;\n",
       "    }\n",
       "\n",
       "    .dataframe tbody tr th {\n",
       "        vertical-align: top;\n",
       "    }\n",
       "\n",
       "    .dataframe thead th {\n",
       "        text-align: right;\n",
       "    }\n",
       "</style>\n",
       "<table border=\"1\" class=\"dataframe\">\n",
       "  <thead>\n",
       "    <tr style=\"text-align: right;\">\n",
       "      <th></th>\n",
       "      <th>meantemp</th>\n",
       "      <th>humidity</th>\n",
       "      <th>wind_speed</th>\n",
       "      <th>meanpressure</th>\n",
       "    </tr>\n",
       "    <tr>\n",
       "      <th>date</th>\n",
       "      <th></th>\n",
       "      <th></th>\n",
       "      <th></th>\n",
       "      <th></th>\n",
       "    </tr>\n",
       "  </thead>\n",
       "  <tbody>\n",
       "    <tr>\n",
       "      <th>2016-12-01</th>\n",
       "      <td>19.750000</td>\n",
       "      <td>84.000000</td>\n",
       "      <td>2.704167</td>\n",
       "      <td>1016.875000</td>\n",
       "    </tr>\n",
       "    <tr>\n",
       "      <th>2016-12-02</th>\n",
       "      <td>19.208333</td>\n",
       "      <td>75.875000</td>\n",
       "      <td>4.945833</td>\n",
       "      <td>1017.750000</td>\n",
       "    </tr>\n",
       "    <tr>\n",
       "      <th>2016-12-03</th>\n",
       "      <td>21.208333</td>\n",
       "      <td>52.166667</td>\n",
       "      <td>5.866667</td>\n",
       "      <td>1019.333333</td>\n",
       "    </tr>\n",
       "    <tr>\n",
       "      <th>2016-12-04</th>\n",
       "      <td>18.900000</td>\n",
       "      <td>55.250000</td>\n",
       "      <td>5.666667</td>\n",
       "      <td>1019.700000</td>\n",
       "    </tr>\n",
       "    <tr>\n",
       "      <th>2016-12-05</th>\n",
       "      <td>18.636364</td>\n",
       "      <td>56.590909</td>\n",
       "      <td>4.952381</td>\n",
       "      <td>1017.045455</td>\n",
       "    </tr>\n",
       "    <tr>\n",
       "      <th>2016-12-06</th>\n",
       "      <td>18.538462</td>\n",
       "      <td>69.923077</td>\n",
       "      <td>2.503846</td>\n",
       "      <td>1017.961538</td>\n",
       "    </tr>\n",
       "    <tr>\n",
       "      <th>2016-12-07</th>\n",
       "      <td>18.250000</td>\n",
       "      <td>74.350000</td>\n",
       "      <td>0.925000</td>\n",
       "      <td>1017.421053</td>\n",
       "    </tr>\n",
       "  </tbody>\n",
       "</table>\n",
       "</div>"
      ],
      "text/plain": [
       "             meantemp   humidity  wind_speed  meanpressure\n",
       "date                                                      \n",
       "2016-12-01  19.750000  84.000000    2.704167   1016.875000\n",
       "2016-12-02  19.208333  75.875000    4.945833   1017.750000\n",
       "2016-12-03  21.208333  52.166667    5.866667   1019.333333\n",
       "2016-12-04  18.900000  55.250000    5.666667   1019.700000\n",
       "2016-12-05  18.636364  56.590909    4.952381   1017.045455\n",
       "2016-12-06  18.538462  69.923077    2.503846   1017.961538\n",
       "2016-12-07  18.250000  74.350000    0.925000   1017.421053"
      ]
     },
     "execution_count": 13,
     "metadata": {},
     "output_type": "execute_result"
    }
   ],
   "source": [
    "#code here\n",
    "df['2016'].last('1M').head(7)"
   ]
  },
  {
   "cell_type": "markdown",
   "metadata": {
    "id": "jJIUVhp5t2Mz"
   },
   "source": [
    "Expected output:\n",
    "\n",
    "(Gambar hanya sebagian)\n",
    "\n",
    "![alt text](https://drive.google.com/uc?id=1X2hXsvrRGvqHqtc5BFbVvRXwh5YxBQ_P)"
   ]
  },
  {
   "cell_type": "code",
   "execution_count": 15,
   "metadata": {},
   "outputs": [
    {
     "name": "stderr",
     "output_type": "stream",
     "text": [
      "C:\\Users\\ian\\AppData\\Local\\Temp\\ipykernel_14564\\1555422294.py:1: FutureWarning: Indexing a DataFrame with a datetimelike index using a single string to slice the rows, like `frame[string]`, is deprecated and will be removed in a future version. Use `frame.loc[string]` instead.\n",
      "  df['2016']['meantemp'].last('1M').max()\n"
     ]
    },
    {
     "data": {
      "text/plain": [
       "21.20833333"
      ]
     },
     "execution_count": 15,
     "metadata": {},
     "output_type": "execute_result"
    }
   ],
   "source": [
    "df['2016']['meantemp'].last('1M').max()"
   ]
  },
  {
   "cell_type": "markdown",
   "metadata": {
    "id": "rtIlq8BNuKSu"
   },
   "source": [
    "Jawab disini:"
   ]
  },
  {
   "cell_type": "markdown",
   "metadata": {
    "id": "pVsgBq-auexG"
   },
   "source": [
    "21.20833333"
   ]
  },
  {
   "cell_type": "markdown",
   "metadata": {
    "id": "eHleI1gTlOI_"
   },
   "source": [
    "**Soal 4. Time grouping**\n",
    "\n",
    " \n",
    "\n",
    "*   Lakukan grouping data perubahan iklim pada tahun 2016 berdasarkan frekuensi 1 bulan dengan memberikan agregasi max pada kolom meantemp. humidity, wind_speed dan meanpressure!\n",
    "*   Berikan analisa, di bulan apa rata-rata temperatur, humidity, wind_speed dan meanpressure tertinggi?\n",
    "\n",
    "\n",
    "\n"
   ]
  },
  {
   "cell_type": "code",
   "execution_count": 25,
   "metadata": {
    "id": "3tE-GCrXwH1H"
   },
   "outputs": [
    {
     "name": "stderr",
     "output_type": "stream",
     "text": [
      "C:\\Users\\ian\\AppData\\Local\\Temp\\ipykernel_14564\\282757663.py:2: FutureWarning: Indexing a DataFrame with a datetimelike index using a single string to slice the rows, like `frame[string]`, is deprecated and will be removed in a future version. Use `frame.loc[string]` instead.\n",
      "  df_freq1 = df['2016'].groupby(pd.Grouper(freq='1M')).max()\n"
     ]
    },
    {
     "data": {
      "text/html": [
       "<div>\n",
       "<style scoped>\n",
       "    .dataframe tbody tr th:only-of-type {\n",
       "        vertical-align: middle;\n",
       "    }\n",
       "\n",
       "    .dataframe tbody tr th {\n",
       "        vertical-align: top;\n",
       "    }\n",
       "\n",
       "    .dataframe thead th {\n",
       "        text-align: right;\n",
       "    }\n",
       "</style>\n",
       "<table border=\"1\" class=\"dataframe\">\n",
       "  <thead>\n",
       "    <tr style=\"text-align: right;\">\n",
       "      <th></th>\n",
       "      <th>meantemp</th>\n",
       "      <th>humidity</th>\n",
       "      <th>wind_speed</th>\n",
       "      <th>meanpressure</th>\n",
       "    </tr>\n",
       "    <tr>\n",
       "      <th>date</th>\n",
       "      <th></th>\n",
       "      <th></th>\n",
       "      <th></th>\n",
       "      <th></th>\n",
       "    </tr>\n",
       "  </thead>\n",
       "  <tbody>\n",
       "    <tr>\n",
       "      <th>2016-01-31</th>\n",
       "      <td>20.142857</td>\n",
       "      <td>88.833333</td>\n",
       "      <td>11.240000</td>\n",
       "      <td>1021.142857</td>\n",
       "    </tr>\n",
       "    <tr>\n",
       "      <th>2016-02-29</th>\n",
       "      <td>23.875000</td>\n",
       "      <td>77.000000</td>\n",
       "      <td>17.137500</td>\n",
       "      <td>1020.071429</td>\n",
       "    </tr>\n",
       "    <tr>\n",
       "      <th>2016-03-31</th>\n",
       "      <td>30.000000</td>\n",
       "      <td>67.800000</td>\n",
       "      <td>22.100000</td>\n",
       "      <td>7679.333333</td>\n",
       "    </tr>\n",
       "    <tr>\n",
       "      <th>2016-04-30</th>\n",
       "      <td>35.687500</td>\n",
       "      <td>44.250000</td>\n",
       "      <td>19.653846</td>\n",
       "      <td>1009.400000</td>\n",
       "    </tr>\n",
       "    <tr>\n",
       "      <th>2016-05-31</th>\n",
       "      <td>38.272727</td>\n",
       "      <td>74.812500</td>\n",
       "      <td>18.425000</td>\n",
       "      <td>1007.466667</td>\n",
       "    </tr>\n",
       "    <tr>\n",
       "      <th>2016-06-30</th>\n",
       "      <td>38.200000</td>\n",
       "      <td>75.071429</td>\n",
       "      <td>21.306250</td>\n",
       "      <td>1002.833333</td>\n",
       "    </tr>\n",
       "    <tr>\n",
       "      <th>2016-07-31</th>\n",
       "      <td>34.187500</td>\n",
       "      <td>93.875000</td>\n",
       "      <td>13.656250</td>\n",
       "      <td>1004.625000</td>\n",
       "    </tr>\n",
       "    <tr>\n",
       "      <th>2016-08-31</th>\n",
       "      <td>33.809524</td>\n",
       "      <td>89.555556</td>\n",
       "      <td>14.666667</td>\n",
       "      <td>1006.200000</td>\n",
       "    </tr>\n",
       "    <tr>\n",
       "      <th>2016-09-30</th>\n",
       "      <td>33.444444</td>\n",
       "      <td>87.240000</td>\n",
       "      <td>17.908333</td>\n",
       "      <td>1352.615385</td>\n",
       "    </tr>\n",
       "    <tr>\n",
       "      <th>2016-10-31</th>\n",
       "      <td>33.269231</td>\n",
       "      <td>71.875000</td>\n",
       "      <td>15.825000</td>\n",
       "      <td>1017.807692</td>\n",
       "    </tr>\n",
       "    <tr>\n",
       "      <th>2016-11-30</th>\n",
       "      <td>25.640000</td>\n",
       "      <td>80.086957</td>\n",
       "      <td>15.085000</td>\n",
       "      <td>1350.296296</td>\n",
       "    </tr>\n",
       "    <tr>\n",
       "      <th>2016-12-31</th>\n",
       "      <td>21.208333</td>\n",
       "      <td>94.300000</td>\n",
       "      <td>19.404762</td>\n",
       "      <td>1019.700000</td>\n",
       "    </tr>\n",
       "  </tbody>\n",
       "</table>\n",
       "</div>"
      ],
      "text/plain": [
       "             meantemp   humidity  wind_speed  meanpressure\n",
       "date                                                      \n",
       "2016-01-31  20.142857  88.833333   11.240000   1021.142857\n",
       "2016-02-29  23.875000  77.000000   17.137500   1020.071429\n",
       "2016-03-31  30.000000  67.800000   22.100000   7679.333333\n",
       "2016-04-30  35.687500  44.250000   19.653846   1009.400000\n",
       "2016-05-31  38.272727  74.812500   18.425000   1007.466667\n",
       "2016-06-30  38.200000  75.071429   21.306250   1002.833333\n",
       "2016-07-31  34.187500  93.875000   13.656250   1004.625000\n",
       "2016-08-31  33.809524  89.555556   14.666667   1006.200000\n",
       "2016-09-30  33.444444  87.240000   17.908333   1352.615385\n",
       "2016-10-31  33.269231  71.875000   15.825000   1017.807692\n",
       "2016-11-30  25.640000  80.086957   15.085000   1350.296296\n",
       "2016-12-31  21.208333  94.300000   19.404762   1019.700000"
      ]
     },
     "execution_count": 25,
     "metadata": {},
     "output_type": "execute_result"
    }
   ],
   "source": [
    "#code here\n",
    "df_freq1 = df['2016'].groupby(pd.Grouper(freq='1M')).max()\n",
    "df_freq1"
   ]
  },
  {
   "cell_type": "markdown",
   "metadata": {
    "id": "bx-U_jTUwKe6"
   },
   "source": [
    "Expected output:\n",
    "\n",
    "(Gambar hanya sebagian)\n",
    "\n",
    "![alt text](https://drive.google.com/uc?id=1s2Y8Dc3M3xbG-51mTuTmXUFgLvHDvc5Q)"
   ]
  },
  {
   "cell_type": "code",
   "execution_count": 26,
   "metadata": {},
   "outputs": [
    {
     "data": {
      "text/plain": [
       "meantemp          38.272727\n",
       "humidity          94.300000\n",
       "wind_speed        22.100000\n",
       "meanpressure    7679.333333\n",
       "dtype: float64"
      ]
     },
     "execution_count": 26,
     "metadata": {},
     "output_type": "execute_result"
    }
   ],
   "source": [
    "df_freq1.max()"
   ]
  },
  {
   "cell_type": "markdown",
   "metadata": {
    "id": "a_Dw_dikzQBH"
   },
   "source": [
    "Jawab disini:"
   ]
  },
  {
   "cell_type": "markdown",
   "metadata": {
    "id": "cNmZ6Xs4wbnZ"
   },
   "source": [
    "temp tertinggi = april\n",
    "humidity tertinggi = desember\n",
    "wind speed tertinggi = maret\n",
    "pressure tertinggi = maret"
   ]
  },
  {
   "cell_type": "markdown",
   "metadata": {
    "id": "0bgkY_bEoI5L"
   },
   "source": [
    "**Soal 5. Time Differenced**\n",
    "\n",
    "Tunjukkanlah perubahan iklim di tahun 2016 pada minggu terakhir"
   ]
  },
  {
   "cell_type": "code",
   "execution_count": 28,
   "metadata": {
    "id": "-Ptsqp-3zLI8"
   },
   "outputs": [
    {
     "name": "stderr",
     "output_type": "stream",
     "text": [
      "C:\\Users\\ian\\AppData\\Local\\Temp\\ipykernel_14564\\3002856194.py:2: FutureWarning: Indexing a DataFrame with a datetimelike index using a single string to slice the rows, like `frame[string]`, is deprecated and will be removed in a future version. Use `frame.loc[string]` instead.\n",
      "  df['2016'].diff().last('1W')\n"
     ]
    },
    {
     "data": {
      "text/html": [
       "<div>\n",
       "<style scoped>\n",
       "    .dataframe tbody tr th:only-of-type {\n",
       "        vertical-align: middle;\n",
       "    }\n",
       "\n",
       "    .dataframe tbody tr th {\n",
       "        vertical-align: top;\n",
       "    }\n",
       "\n",
       "    .dataframe thead th {\n",
       "        text-align: right;\n",
       "    }\n",
       "</style>\n",
       "<table border=\"1\" class=\"dataframe\">\n",
       "  <thead>\n",
       "    <tr style=\"text-align: right;\">\n",
       "      <th></th>\n",
       "      <th>meantemp</th>\n",
       "      <th>humidity</th>\n",
       "      <th>wind_speed</th>\n",
       "      <th>meanpressure</th>\n",
       "    </tr>\n",
       "    <tr>\n",
       "      <th>date</th>\n",
       "      <th></th>\n",
       "      <th></th>\n",
       "      <th></th>\n",
       "      <th></th>\n",
       "    </tr>\n",
       "  </thead>\n",
       "  <tbody>\n",
       "    <tr>\n",
       "      <th>2016-12-26</th>\n",
       "      <td>3.142857</td>\n",
       "      <td>-19.442857</td>\n",
       "      <td>-0.300789</td>\n",
       "      <td>2.602381</td>\n",
       "    </tr>\n",
       "    <tr>\n",
       "      <th>2016-12-27</th>\n",
       "      <td>-0.292857</td>\n",
       "      <td>-7.307143</td>\n",
       "      <td>-0.449211</td>\n",
       "      <td>0.247619</td>\n",
       "    </tr>\n",
       "    <tr>\n",
       "      <th>2016-12-28</th>\n",
       "      <td>0.367391</td>\n",
       "      <td>0.493478</td>\n",
       "      <td>-4.787174</td>\n",
       "      <td>-1.634783</td>\n",
       "    </tr>\n",
       "    <tr>\n",
       "      <th>2016-12-29</th>\n",
       "      <td>-1.979296</td>\n",
       "      <td>19.813665</td>\n",
       "      <td>2.452174</td>\n",
       "      <td>1.339545</td>\n",
       "    </tr>\n",
       "    <tr>\n",
       "      <th>2016-12-30</th>\n",
       "      <td>-1.142857</td>\n",
       "      <td>1.809524</td>\n",
       "      <td>0.266667</td>\n",
       "      <td>1.000000</td>\n",
       "    </tr>\n",
       "    <tr>\n",
       "      <th>2016-12-31</th>\n",
       "      <td>0.957393</td>\n",
       "      <td>-2.666667</td>\n",
       "      <td>1.058333</td>\n",
       "      <td>-1.804762</td>\n",
       "    </tr>\n",
       "  </tbody>\n",
       "</table>\n",
       "</div>"
      ],
      "text/plain": [
       "            meantemp   humidity  wind_speed  meanpressure\n",
       "date                                                     \n",
       "2016-12-26  3.142857 -19.442857   -0.300789      2.602381\n",
       "2016-12-27 -0.292857  -7.307143   -0.449211      0.247619\n",
       "2016-12-28  0.367391   0.493478   -4.787174     -1.634783\n",
       "2016-12-29 -1.979296  19.813665    2.452174      1.339545\n",
       "2016-12-30 -1.142857   1.809524    0.266667      1.000000\n",
       "2016-12-31  0.957393  -2.666667    1.058333     -1.804762"
      ]
     },
     "execution_count": 28,
     "metadata": {},
     "output_type": "execute_result"
    }
   ],
   "source": [
    "#code here\n",
    "df['2016'].diff().last('1W')"
   ]
  },
  {
   "cell_type": "markdown",
   "metadata": {
    "id": "25mlJPqszNvO"
   },
   "source": [
    "Expected output:\n",
    "\n",
    "(Gambar hanya sebagian)\n",
    "\n",
    "![alt text](https://drive.google.com/uc?id=1miJBQeGMyUS_G3bwP14Plo4s5950oYy5)"
   ]
  },
  {
   "cell_type": "markdown",
   "metadata": {
    "id": "tE-cUBzIzkNo"
   },
   "source": [
    "\n",
    "\n",
    "---\n",
    "\n",
    "\n",
    "\n",
    "---\n",
    "\n"
   ]
  }
 ],
 "metadata": {
  "colab": {
   "collapsed_sections": [],
   "name": "Tugas Hari 5 Pekan 2.ipynb",
   "provenance": []
  },
  "kernelspec": {
   "display_name": "Python 3 (ipykernel)",
   "language": "python",
   "name": "python3"
  },
  "language_info": {
   "codemirror_mode": {
    "name": "ipython",
    "version": 3
   },
   "file_extension": ".py",
   "mimetype": "text/x-python",
   "name": "python",
   "nbconvert_exporter": "python",
   "pygments_lexer": "ipython3",
   "version": "3.9.13"
  }
 },
 "nbformat": 4,
 "nbformat_minor": 1
}
